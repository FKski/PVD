{
 "cells": [
  {
   "cell_type": "markdown",
   "metadata": {},
   "source": [
    "# Continents"
   ]
  },
  {
   "cell_type": "markdown",
   "metadata": {},
   "source": [
    "### Populate data from file"
   ]
  },
  {
   "cell_type": "code",
   "execution_count": 4,
   "metadata": {},
   "outputs": [
    {
     "name": "stdout",
     "output_type": "stream",
     "text": [
      "       Continent      Area  Population\n",
      "0         Europe  10000000   745173774\n",
      "1           Asia  44614000  4694576167\n",
      "2  North America  24230000   595783465\n",
      "3        Oceania   8510926    44491724\n",
      "4         Africa  30365000  1393676444\n",
      "\n",
      "\n",
      "               Area    Population\n",
      "count  5.000000e+00  5.000000e+00\n",
      "mean   2.354399e+07  1.494740e+09\n",
      "std    1.500312e+07  1.852185e+09\n",
      "min    8.510926e+06  4.449172e+07\n",
      "25%    1.000000e+07  5.957835e+08\n",
      "50%    2.423000e+07  7.451738e+08\n",
      "75%    3.036500e+07  1.393676e+09\n",
      "max    4.461400e+07  4.694576e+09\n"
     ]
    }
   ],
   "source": [
    "import pandas as pd\n",
    "\n",
    "continents = pd.read_csv('continents.csv')\n",
    "\n",
    "print(continents)\n",
    "print('\\n')\n",
    "print(continents[['Area','Population']].describe())"
   ]
  }
 ],
 "metadata": {
  "kernelspec": {
   "display_name": "Python 3",
   "language": "python",
   "name": "python3"
  },
  "language_info": {
   "codemirror_mode": {
    "name": "ipython",
    "version": 3
   },
   "file_extension": ".py",
   "mimetype": "text/x-python",
   "name": "python",
   "nbconvert_exporter": "python",
   "pygments_lexer": "ipython3",
   "version": "3.11.4"
  }
 },
 "nbformat": 4,
 "nbformat_minor": 2
}
