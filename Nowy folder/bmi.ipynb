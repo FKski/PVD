{
 "cells": [
  {
   "cell_type": "markdown",
   "metadata": {},
   "source": [
    "# BMI Calculator"
   ]
  },
  {
   "cell_type": "markdown",
   "metadata": {},
   "source": [
    "### Pass height and mass to calculate BMI"
   ]
  },
  {
   "cell_type": "markdown",
   "metadata": {},
   "source": [
    "Note that height need to be passed as centimeters not in meters"
   ]
  },
  {
   "cell_type": "code",
   "execution_count": 11,
   "metadata": {},
   "outputs": [],
   "source": [
    "height = int(input('Height (cm): '))\n",
    "mass = int(input('Mass (kg): '))"
   ]
  },
  {
   "cell_type": "markdown",
   "metadata": {},
   "source": [
    "### Calculate and display BMI"
   ]
  },
  {
   "cell_type": "code",
   "execution_count": 17,
   "metadata": {},
   "outputs": [
    {
     "data": {
      "text/plain": [
       "24.691358024691358"
      ]
     },
     "execution_count": 17,
     "metadata": {},
     "output_type": "execute_result"
    }
   ],
   "source": [
    "from hashlib import md5\n",
    "\n",
    "\n",
    "bmi = mass / ((height/100)**2)\n",
    "bmi"
   ]
  },
  {
   "cell_type": "markdown",
   "metadata": {},
   "source": [
    "|   BMI    |   Result  |\n",
    "|----------|-----------|\n",
    "|  <16,0   |wygłodzenie|\n",
    "|  16,0 – 16,9\t|wychudzenie|\n",
    "|  17,0 - 18,5\t   |niedowaga|\n",
    "|  18,5–24,9   |waga prawidłowa|\n",
    "|  25,0–29,9\t   |nadwaga|\n",
    "|  30,0–34,9\t   |otyłość I stopnia|\n",
    "|  35,0–39,9\t   |otyłość II stopnia|\n",
    "|  ≥40\t   |otyłość III stopnia|"
   ]
  }
 ],
 "metadata": {
  "kernelspec": {
   "display_name": "Python 3",
   "language": "python",
   "name": "python3"
  },
  "language_info": {
   "codemirror_mode": {
    "name": "ipython",
    "version": 3
   },
   "file_extension": ".py",
   "mimetype": "text/x-python",
   "name": "python",
   "nbconvert_exporter": "python",
   "pygments_lexer": "ipython3",
   "version": "3.11.4"
  }
 },
 "nbformat": 4,
 "nbformat_minor": 2
}
