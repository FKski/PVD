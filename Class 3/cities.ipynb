{
 "cells": [
  {
   "cell_type": "code",
   "execution_count": 1,
   "metadata": {},
   "outputs": [],
   "source": [
    "import pandas as pd"
   ]
  },
  {
   "cell_type": "code",
   "execution_count": 5,
   "metadata": {},
   "outputs": [
    {
     "data": {
      "text/html": [
       "<div>\n",
       "<style scoped>\n",
       "    .dataframe tbody tr th:only-of-type {\n",
       "        vertical-align: middle;\n",
       "    }\n",
       "\n",
       "    .dataframe tbody tr th {\n",
       "        vertical-align: top;\n",
       "    }\n",
       "\n",
       "    .dataframe thead th {\n",
       "        text-align: right;\n",
       "    }\n",
       "</style>\n",
       "<table border=\"1\" class=\"dataframe\">\n",
       "  <thead>\n",
       "    <tr style=\"text-align: right;\">\n",
       "      <th></th>\n",
       "      <th>City</th>\n",
       "      <th>Region</th>\n",
       "      <th>Province</th>\n",
       "      <th>Areakm2</th>\n",
       "      <th>Population</th>\n",
       "    </tr>\n",
       "  </thead>\n",
       "  <tbody>\n",
       "    <tr>\n",
       "      <th>0</th>\n",
       "      <td>Bolesławiec</td>\n",
       "      <td>bolesławiecki</td>\n",
       "      <td>dolnośląskie</td>\n",
       "      <td>23.57</td>\n",
       "      <td>39464</td>\n",
       "    </tr>\n",
       "    <tr>\n",
       "      <th>1</th>\n",
       "      <td>Nowogrodziec</td>\n",
       "      <td>bolesławiecki</td>\n",
       "      <td>dolnośląskie</td>\n",
       "      <td>16.10</td>\n",
       "      <td>4227</td>\n",
       "    </tr>\n",
       "    <tr>\n",
       "      <th>2</th>\n",
       "      <td>Bielawa</td>\n",
       "      <td>dzierżoniowski</td>\n",
       "      <td>dolnośląskie</td>\n",
       "      <td>36.21</td>\n",
       "      <td>30987</td>\n",
       "    </tr>\n",
       "    <tr>\n",
       "      <th>3</th>\n",
       "      <td>Dzierżoniów</td>\n",
       "      <td>dzierżoniowski</td>\n",
       "      <td>dolnośląskie</td>\n",
       "      <td>20.07</td>\n",
       "      <td>34168</td>\n",
       "    </tr>\n",
       "    <tr>\n",
       "      <th>4</th>\n",
       "      <td>Niemcza</td>\n",
       "      <td>dzierżoniowski</td>\n",
       "      <td>dolnośląskie</td>\n",
       "      <td>19.81</td>\n",
       "      <td>3107</td>\n",
       "    </tr>\n",
       "    <tr>\n",
       "      <th>...</th>\n",
       "      <td>...</td>\n",
       "      <td>...</td>\n",
       "      <td>...</td>\n",
       "      <td>...</td>\n",
       "      <td>...</td>\n",
       "    </tr>\n",
       "    <tr>\n",
       "      <th>908</th>\n",
       "      <td>Świnoujście</td>\n",
       "      <td>Świnoujście[a]</td>\n",
       "      <td>zachodniopomorskie</td>\n",
       "      <td>197.23</td>\n",
       "      <td>41276</td>\n",
       "    </tr>\n",
       "    <tr>\n",
       "      <th>909</th>\n",
       "      <td>Człopa</td>\n",
       "      <td>wałecki</td>\n",
       "      <td>zachodniopomorskie</td>\n",
       "      <td>6.27</td>\n",
       "      <td>2345</td>\n",
       "    </tr>\n",
       "    <tr>\n",
       "      <th>910</th>\n",
       "      <td>Mirosławiec</td>\n",
       "      <td>wałecki</td>\n",
       "      <td>zachodniopomorskie</td>\n",
       "      <td>2.17</td>\n",
       "      <td>3040</td>\n",
       "    </tr>\n",
       "    <tr>\n",
       "      <th>911</th>\n",
       "      <td>Tuczno</td>\n",
       "      <td>wałecki</td>\n",
       "      <td>zachodniopomorskie</td>\n",
       "      <td>9.21</td>\n",
       "      <td>1956</td>\n",
       "    </tr>\n",
       "    <tr>\n",
       "      <th>912</th>\n",
       "      <td>Wałcz</td>\n",
       "      <td>wałecki</td>\n",
       "      <td>zachodniopomorskie</td>\n",
       "      <td>38.17</td>\n",
       "      <td>26033</td>\n",
       "    </tr>\n",
       "  </tbody>\n",
       "</table>\n",
       "<p>913 rows × 5 columns</p>\n",
       "</div>"
      ],
      "text/plain": [
       "             City          Region            Province  Areakm2  Population\n",
       "0     Bolesławiec   bolesławiecki        dolnośląskie    23.57       39464\n",
       "1    Nowogrodziec   bolesławiecki        dolnośląskie    16.10        4227\n",
       "2         Bielawa  dzierżoniowski        dolnośląskie    36.21       30987\n",
       "3     Dzierżoniów  dzierżoniowski        dolnośląskie    20.07       34168\n",
       "4         Niemcza  dzierżoniowski        dolnośląskie    19.81        3107\n",
       "..            ...             ...                 ...      ...         ...\n",
       "908   Świnoujście  Świnoujście[a]  zachodniopomorskie   197.23       41276\n",
       "909        Człopa         wałecki  zachodniopomorskie     6.27        2345\n",
       "910   Mirosławiec         wałecki  zachodniopomorskie     2.17        3040\n",
       "911        Tuczno         wałecki  zachodniopomorskie     9.21        1956\n",
       "912         Wałcz         wałecki  zachodniopomorskie    38.17       26033\n",
       "\n",
       "[913 rows x 5 columns]"
      ]
     },
     "execution_count": 5,
     "metadata": {},
     "output_type": "execute_result"
    }
   ],
   "source": [
    "df = pd.read_csv('cities-in-poland.csv', sep=';')\n",
    "df\n"
   ]
  },
  {
   "cell_type": "code",
   "execution_count": 18,
   "metadata": {},
   "outputs": [
    {
     "ename": "ValueError",
     "evalue": "pie requires either y column or 'subplots=True'",
     "output_type": "error",
     "traceback": [
      "\u001b[1;31m---------------------------------------------------------------------------\u001b[0m",
      "\u001b[1;31mValueError\u001b[0m                                Traceback (most recent call last)",
      "Cell \u001b[1;32mIn[18], line 2\u001b[0m\n\u001b[0;32m      1\u001b[0m df1 \u001b[38;5;241m=\u001b[39m df\u001b[38;5;241m.\u001b[39mloc[:,[\u001b[38;5;124m'\u001b[39m\u001b[38;5;124mProvince\u001b[39m\u001b[38;5;124m'\u001b[39m,\u001b[38;5;124m'\u001b[39m\u001b[38;5;124mPopulation\u001b[39m\u001b[38;5;124m'\u001b[39m]]\u001b[38;5;241m.\u001b[39mgroupby(\u001b[38;5;124m'\u001b[39m\u001b[38;5;124mProvince\u001b[39m\u001b[38;5;124m'\u001b[39m)\u001b[38;5;241m.\u001b[39msum()\n\u001b[1;32m----> 2\u001b[0m \u001b[43mdf1\u001b[49m\u001b[38;5;241;43m.\u001b[39;49m\u001b[43mplot\u001b[49m\u001b[38;5;241;43m.\u001b[39;49m\u001b[43mpie\u001b[49m\u001b[43m(\u001b[49m\u001b[43m)\u001b[49m\n",
      "File \u001b[1;32mc:\\Program Files\\python\\Lib\\site-packages\\pandas\\plotting\\_core.py:1657\u001b[0m, in \u001b[0;36mPlotAccessor.pie\u001b[1;34m(self, **kwargs)\u001b[0m\n\u001b[0;32m   1606\u001b[0m \u001b[38;5;250m\u001b[39m\u001b[38;5;124;03m\"\"\"\u001b[39;00m\n\u001b[0;32m   1607\u001b[0m \u001b[38;5;124;03mGenerate a pie plot.\u001b[39;00m\n\u001b[0;32m   1608\u001b[0m \n\u001b[1;32m   (...)\u001b[0m\n\u001b[0;32m   1650\u001b[0m \u001b[38;5;124;03m    >>> plot = df.plot.pie(subplots=True, figsize=(11, 6))\u001b[39;00m\n\u001b[0;32m   1651\u001b[0m \u001b[38;5;124;03m\"\"\"\u001b[39;00m\n\u001b[0;32m   1652\u001b[0m \u001b[38;5;28;01mif\u001b[39;00m (\n\u001b[0;32m   1653\u001b[0m     \u001b[38;5;28misinstance\u001b[39m(\u001b[38;5;28mself\u001b[39m\u001b[38;5;241m.\u001b[39m_parent, ABCDataFrame)\n\u001b[0;32m   1654\u001b[0m     \u001b[38;5;129;01mand\u001b[39;00m kwargs\u001b[38;5;241m.\u001b[39mget(\u001b[38;5;124m\"\u001b[39m\u001b[38;5;124my\u001b[39m\u001b[38;5;124m\"\u001b[39m, \u001b[38;5;28;01mNone\u001b[39;00m) \u001b[38;5;129;01mis\u001b[39;00m \u001b[38;5;28;01mNone\u001b[39;00m\n\u001b[0;32m   1655\u001b[0m     \u001b[38;5;129;01mand\u001b[39;00m \u001b[38;5;129;01mnot\u001b[39;00m kwargs\u001b[38;5;241m.\u001b[39mget(\u001b[38;5;124m\"\u001b[39m\u001b[38;5;124msubplots\u001b[39m\u001b[38;5;124m\"\u001b[39m, \u001b[38;5;28;01mFalse\u001b[39;00m)\n\u001b[0;32m   1656\u001b[0m ):\n\u001b[1;32m-> 1657\u001b[0m     \u001b[38;5;28;01mraise\u001b[39;00m \u001b[38;5;167;01mValueError\u001b[39;00m(\u001b[38;5;124m\"\u001b[39m\u001b[38;5;124mpie requires either y column or \u001b[39m\u001b[38;5;124m'\u001b[39m\u001b[38;5;124msubplots=True\u001b[39m\u001b[38;5;124m'\u001b[39m\u001b[38;5;124m\"\u001b[39m)\n\u001b[0;32m   1658\u001b[0m \u001b[38;5;28;01mreturn\u001b[39;00m \u001b[38;5;28mself\u001b[39m(kind\u001b[38;5;241m=\u001b[39m\u001b[38;5;124m\"\u001b[39m\u001b[38;5;124mpie\u001b[39m\u001b[38;5;124m\"\u001b[39m, \u001b[38;5;241m*\u001b[39m\u001b[38;5;241m*\u001b[39mkwargs)\n",
      "\u001b[1;31mValueError\u001b[0m: pie requires either y column or 'subplots=True'"
     ]
    }
   ],
   "source": [
    "df1 = df.loc[:,['Province','Population']].groupby('Province').sum()\n",
    "df1.plot.pie()\n"
   ]
  },
  {
   "cell_type": "code",
   "execution_count": null,
   "metadata": {},
   "outputs": [],
   "source": []
  }
 ],
 "metadata": {
  "kernelspec": {
   "display_name": "Python 3",
   "language": "python",
   "name": "python3"
  },
  "language_info": {
   "codemirror_mode": {
    "name": "ipython",
    "version": 3
   },
   "file_extension": ".py",
   "mimetype": "text/x-python",
   "name": "python",
   "nbconvert_exporter": "python",
   "pygments_lexer": "ipython3",
   "version": "3.11.4"
  }
 },
 "nbformat": 4,
 "nbformat_minor": 2
}
