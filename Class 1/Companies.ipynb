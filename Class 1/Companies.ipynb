{
 "cells": [
  {
   "cell_type": "markdown",
   "metadata": {},
   "source": [
    "# Companies"
   ]
  },
  {
   "cell_type": "code",
   "execution_count": 2,
   "metadata": {},
   "outputs": [
    {
     "data": {
      "text/html": [
       "<div>\n",
       "<style scoped>\n",
       "    .dataframe tbody tr th:only-of-type {\n",
       "        vertical-align: middle;\n",
       "    }\n",
       "\n",
       "    .dataframe tbody tr th {\n",
       "        vertical-align: top;\n",
       "    }\n",
       "\n",
       "    .dataframe thead th {\n",
       "        text-align: right;\n",
       "    }\n",
       "</style>\n",
       "<table border=\"1\" class=\"dataframe\">\n",
       "  <thead>\n",
       "    <tr style=\"text-align: right;\">\n",
       "      <th></th>\n",
       "      <th>Company</th>\n",
       "      <th>Department</th>\n",
       "      <th>#Men</th>\n",
       "      <th>#Women</th>\n",
       "    </tr>\n",
       "  </thead>\n",
       "  <tbody>\n",
       "    <tr>\n",
       "      <th>0</th>\n",
       "      <td>Dabjam</td>\n",
       "      <td>Sales</td>\n",
       "      <td>315</td>\n",
       "      <td>959</td>\n",
       "    </tr>\n",
       "    <tr>\n",
       "      <th>1</th>\n",
       "      <td>Janyx</td>\n",
       "      <td>Legal</td>\n",
       "      <td>56</td>\n",
       "      <td>823</td>\n",
       "    </tr>\n",
       "    <tr>\n",
       "      <th>2</th>\n",
       "      <td>Voomm</td>\n",
       "      <td>Support</td>\n",
       "      <td>159</td>\n",
       "      <td>441</td>\n",
       "    </tr>\n",
       "    <tr>\n",
       "      <th>3</th>\n",
       "      <td>Oyondu</td>\n",
       "      <td>Support</td>\n",
       "      <td>367</td>\n",
       "      <td>437</td>\n",
       "    </tr>\n",
       "    <tr>\n",
       "      <th>4</th>\n",
       "      <td>Buzzbean</td>\n",
       "      <td>Engineering</td>\n",
       "      <td>683</td>\n",
       "      <td>745</td>\n",
       "    </tr>\n",
       "    <tr>\n",
       "      <th>5</th>\n",
       "      <td>Cogibox</td>\n",
       "      <td>Services</td>\n",
       "      <td>677</td>\n",
       "      <td>894</td>\n",
       "    </tr>\n",
       "    <tr>\n",
       "      <th>6</th>\n",
       "      <td>Dabjam</td>\n",
       "      <td>Human Resources</td>\n",
       "      <td>645</td>\n",
       "      <td>539</td>\n",
       "    </tr>\n",
       "    <tr>\n",
       "      <th>7</th>\n",
       "      <td>JumpXS</td>\n",
       "      <td>Business Development</td>\n",
       "      <td>353</td>\n",
       "      <td>331</td>\n",
       "    </tr>\n",
       "    <tr>\n",
       "      <th>8</th>\n",
       "      <td>Digitube</td>\n",
       "      <td>Sales</td>\n",
       "      <td>283</td>\n",
       "      <td>144</td>\n",
       "    </tr>\n",
       "    <tr>\n",
       "      <th>9</th>\n",
       "      <td>Twitterbridge</td>\n",
       "      <td>Human Resources</td>\n",
       "      <td>676</td>\n",
       "      <td>805</td>\n",
       "    </tr>\n",
       "    <tr>\n",
       "      <th>10</th>\n",
       "      <td>Kwinu</td>\n",
       "      <td>Training</td>\n",
       "      <td>459</td>\n",
       "      <td>900</td>\n",
       "    </tr>\n",
       "    <tr>\n",
       "      <th>11</th>\n",
       "      <td>Meezzy</td>\n",
       "      <td>Sales</td>\n",
       "      <td>962</td>\n",
       "      <td>47</td>\n",
       "    </tr>\n",
       "    <tr>\n",
       "      <th>12</th>\n",
       "      <td>Devpoint</td>\n",
       "      <td>Research and Development</td>\n",
       "      <td>66</td>\n",
       "      <td>394</td>\n",
       "    </tr>\n",
       "    <tr>\n",
       "      <th>13</th>\n",
       "      <td>Wikibox</td>\n",
       "      <td>Business Development</td>\n",
       "      <td>549</td>\n",
       "      <td>965</td>\n",
       "    </tr>\n",
       "    <tr>\n",
       "      <th>14</th>\n",
       "      <td>Quinu</td>\n",
       "      <td>Engineering</td>\n",
       "      <td>977</td>\n",
       "      <td>447</td>\n",
       "    </tr>\n",
       "    <tr>\n",
       "      <th>15</th>\n",
       "      <td>Brightbean</td>\n",
       "      <td>Support</td>\n",
       "      <td>442</td>\n",
       "      <td>128</td>\n",
       "    </tr>\n",
       "    <tr>\n",
       "      <th>16</th>\n",
       "      <td>Devbug</td>\n",
       "      <td>Sales</td>\n",
       "      <td>560</td>\n",
       "      <td>149</td>\n",
       "    </tr>\n",
       "    <tr>\n",
       "      <th>17</th>\n",
       "      <td>Oloo</td>\n",
       "      <td>Training</td>\n",
       "      <td>539</td>\n",
       "      <td>937</td>\n",
       "    </tr>\n",
       "    <tr>\n",
       "      <th>18</th>\n",
       "      <td>Wikizz</td>\n",
       "      <td>Marketing</td>\n",
       "      <td>948</td>\n",
       "      <td>490</td>\n",
       "    </tr>\n",
       "    <tr>\n",
       "      <th>19</th>\n",
       "      <td>Rhyloo</td>\n",
       "      <td>Accounting</td>\n",
       "      <td>279</td>\n",
       "      <td>9</td>\n",
       "    </tr>\n",
       "  </tbody>\n",
       "</table>\n",
       "</div>"
      ],
      "text/plain": [
       "          Company                Department  #Men  #Women\n",
       "0          Dabjam                     Sales   315     959\n",
       "1           Janyx                     Legal    56     823\n",
       "2           Voomm                   Support   159     441\n",
       "3          Oyondu                   Support   367     437\n",
       "4        Buzzbean               Engineering   683     745\n",
       "5         Cogibox                  Services   677     894\n",
       "6          Dabjam           Human Resources   645     539\n",
       "7          JumpXS      Business Development   353     331\n",
       "8        Digitube                     Sales   283     144\n",
       "9   Twitterbridge           Human Resources   676     805\n",
       "10          Kwinu                  Training   459     900\n",
       "11         Meezzy                     Sales   962      47\n",
       "12       Devpoint  Research and Development    66     394\n",
       "13        Wikibox      Business Development   549     965\n",
       "14          Quinu               Engineering   977     447\n",
       "15     Brightbean                   Support   442     128\n",
       "16         Devbug                     Sales   560     149\n",
       "17           Oloo                  Training   539     937\n",
       "18         Wikizz                 Marketing   948     490\n",
       "19         Rhyloo                Accounting   279       9"
      ]
     },
     "execution_count": 2,
     "metadata": {},
     "output_type": "execute_result"
    }
   ],
   "source": [
    "import pandas as pd\n",
    "\n",
    "companies = pd.read_csv('companies.csv')\n",
    "\n",
    "companies"
   ]
  },
  {
   "cell_type": "markdown",
   "metadata": {},
   "source": [
    "Total number of men and women"
   ]
  },
  {
   "cell_type": "code",
   "execution_count": 5,
   "metadata": {},
   "outputs": [
    {
     "data": {
      "text/plain": [
       "#Men       9995\n",
       "#Women    10584\n",
       "dtype: int64"
      ]
     },
     "execution_count": 5,
     "metadata": {},
     "output_type": "execute_result"
    }
   ],
   "source": [
    "companies[['#Men','#Women']].sum()"
   ]
  },
  {
   "cell_type": "markdown",
   "metadata": {},
   "source": [
    "Average number of women in company"
   ]
  },
  {
   "cell_type": "code",
   "execution_count": 6,
   "metadata": {},
   "outputs": [
    {
     "data": {
      "text/plain": [
       "529.2"
      ]
     },
     "execution_count": 6,
     "metadata": {},
     "output_type": "execute_result"
    }
   ],
   "source": [
    "companies['#Women'].mean()"
   ]
  }
 ],
 "metadata": {
  "kernelspec": {
   "display_name": "Python 3",
   "language": "python",
   "name": "python3"
  },
  "language_info": {
   "codemirror_mode": {
    "name": "ipython",
    "version": 3
   },
   "file_extension": ".py",
   "mimetype": "text/x-python",
   "name": "python",
   "nbconvert_exporter": "python",
   "pygments_lexer": "ipython3",
   "version": "3.11.4"
  }
 },
 "nbformat": 4,
 "nbformat_minor": 2
}
