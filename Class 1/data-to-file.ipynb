{
 "cells": [
  {
   "cell_type": "markdown",
   "metadata": {},
   "source": [
    "# SAVING DATA TO FILE\n",
    "---"
   ]
  },
  {
   "cell_type": "markdown",
   "metadata": {},
   "source": [
    "## Methods of Writing Data to File"
   ]
  },
  {
   "cell_type": "markdown",
   "metadata": {},
   "source": [
    "To save a DataFrame to a file, use one of the available methods. Try to save data from all rows but selected columns to the file."
   ]
  },
  {
   "cell_type": "code",
   "execution_count": 1,
   "metadata": {},
   "outputs": [],
   "source": [
    "import pandas as pd\n",
    "oscars = pd.read_csv('oscars.csv')"
   ]
  },
  {
   "cell_type": "code",
   "execution_count": 4,
   "metadata": {},
   "outputs": [],
   "source": [
    "movies = oscars.loc[:,['Movie','Year']]\n",
    "movies.to_csv('movies.csv', index=False)"
   ]
  },
  {
   "cell_type": "markdown",
   "metadata": {},
   "source": [
    "### Tasks"
   ]
  },
  {
   "cell_type": "markdown",
   "metadata": {},
   "source": [
    "Display the contents of the created CSV file in the editor and:\n",
    "\n",
    "* Verify that the file contains two columns of data.\n",
    "* Note that if you use index=False when writing data to the file, the file will not contain the names/numbers of the data rows."
   ]
  },
  {
   "cell_type": "markdown",
   "metadata": {},
   "source": [
    "Now try to save the first 6 rows to a JSON file. Then, display the contents of the created file in the editor."
   ]
  },
  {
   "cell_type": "code",
   "execution_count": 5,
   "metadata": {},
   "outputs": [],
   "source": [
    "movies2 = oscars.loc[0:5,:]\n",
    "movies2.to_csv('movies2.csv', index=False)"
   ]
  },
  {
   "cell_type": "markdown",
   "metadata": {},
   "source": [
    "Try to save the last 8 rows with the columns Movie and Year to an HTML file. Then, display the contents of the created file in the editor. Finally, display the created HTML document in any web browser."
   ]
  },
  {
   "cell_type": "code",
   "execution_count": 9,
   "metadata": {},
   "outputs": [
    {
     "name": "stdout",
     "output_type": "stream",
     "text": [
      "                       Movie  Year\n",
      "12                La La Land  2017\n",
      "13     Manchester by the Sea  2017\n",
      "14                      Room  2016\n",
      "15              The Revenant  2016\n",
      "16               Still Alice  2015\n",
      "17  The Theory of Everything  2015\n",
      "18              Blue Jasmine  2014\n",
      "19        Dallas Buyers Club  2014\n"
     ]
    }
   ],
   "source": [
    "moviesHtml = oscars.loc[:,['Movie', 'Year']].tail(8)\n",
    "print(moviesHtml)\n",
    "moviesHtml.to_html('moviesHtml.html',index=False)"
   ]
  }
 ],
 "metadata": {
  "kernelspec": {
   "display_name": "Python 3",
   "language": "python",
   "name": "python3"
  },
  "language_info": {
   "codemirror_mode": {
    "name": "ipython",
    "version": 3
   },
   "file_extension": ".py",
   "mimetype": "text/x-python",
   "name": "python",
   "nbconvert_exporter": "python",
   "pygments_lexer": "ipython3",
   "version": "3.11.4"
  }
 },
 "nbformat": 4,
 "nbformat_minor": 2
}
